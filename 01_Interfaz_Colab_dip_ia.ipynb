{
  "cells": [
    {
      "cell_type": "markdown",
      "metadata": {
        "id": "view-in-github",
        "colab_type": "text"
      },
      "source": [
        "<a href=\"https://colab.research.google.com/github/andresfcf/colabtest/blob/main/01_Interfaz_Colab_dip_ia.ipynb\" target=\"_parent\"><img src=\"https://colab.research.google.com/assets/colab-badge.svg\" alt=\"Open In Colab\"/></a>"
      ]
    },
    {
      "cell_type": "markdown",
      "id": "Vka3OKv6u_bK",
      "metadata": {
        "id": "Vka3OKv6u_bK"
      },
      "source": [
        "# **Introducción a Python - Interfaz de Colab**"
      ]
    },
    {
      "cell_type": "markdown",
      "id": "0ff117a9-452b-40ef-bbc5-e7cbf7753660",
      "metadata": {
        "jp-MarkdownHeadingCollapsed": true,
        "id": "0ff117a9-452b-40ef-bbc5-e7cbf7753660"
      },
      "source": [
        "### *Antes de comenzar, asegurate de guardar una copia de este cuaderno en tu Google Drive!*"
      ]
    },
    {
      "cell_type": "markdown",
      "id": "wi2gekOd9Vct",
      "metadata": {
        "id": "wi2gekOd9Vct"
      },
      "source": [
        "## **Introducción a la interfaz de Colab**"
      ]
    },
    {
      "cell_type": "markdown",
      "id": "OapaI2a48_E2",
      "metadata": {
        "id": "OapaI2a48_E2"
      },
      "source": [
        "Google **`Colab`** is es un plataforma en la nube que permite escribir y ejecutar codigo en Python a tráves de su navegador.\n",
        "\n",
        "En este curso, compartiré varios cuadernos de Colab - como el que se esta usando ahora. Para hacer cambios, se debe guardar una copia en su Google Drive.\n",
        "\n",
        "Esta es la forma de hacerlo:\n",
        "\n",
        "* Abra el cuaderno compartido: Dar click en el link recibido para abrir el cuaderno (Ya lo debiste haber hecho!)\n",
        "* Guarda una copia: Ve al menu y selecciona Archivo > Guardar una copia en Drive\n",
        "* Edita tu copia: una vez guardada, puedes hacer los cambios a tu version sin afectar el original\n",
        "\n",
        "Siempre guarda una copia si planeas editar, de otro modo, los cambios no se guardaran.\n"
      ]
    },
    {
      "cell_type": "markdown",
      "id": "T484_Ljo-uCb",
      "metadata": {
        "id": "T484_Ljo-uCb"
      },
      "source": [
        "### **Ejercicio**\n",
        "\n",
        "Guarda este archivo en tu Google Drive."
      ]
    },
    {
      "cell_type": "markdown",
      "id": "DDacd-gJ9bFT",
      "metadata": {
        "id": "DDacd-gJ9bFT"
      },
      "source": [
        "## **Celdas en Colab**"
      ]
    },
    {
      "cell_type": "markdown",
      "id": "03df3a4c-676a-4461-836a-deee148b49e9",
      "metadata": {
        "id": "03df3a4c-676a-4461-836a-deee148b49e9"
      },
      "source": [
        "La interfaz de Colab tiene dos tipos principales de celdas:  \n",
        "\n",
        "- **Celdas de Texto**: Se utilizan para texto, encabezados y otros formatos de contenido.  \n",
        "- **Celdas de Código**: Se utilizan para escribir y ejecutar código en Python.\n",
        "\n",
        "En el menú superior encontrarás las opciones **`+Codigo`**  y **`+Texto`** para insertar una celda según se requiera.\n",
        "\n",
        "Esta celda es una celda de Texto. Si deseas cambiar el texto en esta celda, solo haz doble clic sobre ella y realiza los cambios.\n",
        "\n",
        "En Google Colab, puedes convertir una celda de Texto a Código y viceversa de la siguiente manera:\n",
        "\n",
        "Para convertir una celda de Texto a Código:\n",
        "➝ **`Ctrl + M + Y`** (Windows/Linux) o **`Cmd + M + Y`** (Mac).\n",
        "Para convertir una celda de Código a Texto:\n",
        "➝ **`Ctrl + M + M`** (Windows/Linux) o **`Cmd + M + M`** (Mac)."
      ]
    },
    {
      "cell_type": "markdown",
      "id": "ibijgvL1hSTT",
      "metadata": {
        "id": "ibijgvL1hSTT"
      },
      "source": [
        "La celda a continuación es una celda de código. La usamos para un fragmento básico de código que contiene una instrucción **`print`**. Puedes presionar el **`botón de ejecución`** (**`Play`**) para ejecutar el código en la celda o puedes presionar **`Shift + Enter`** que tambien ejecutará el código."
      ]
    },
    {
      "cell_type": "code",
      "execution_count": null,
      "id": "RrQ5xLg8-v9k",
      "metadata": {
        "id": "RrQ5xLg8-v9k",
        "colab": {
          "base_uri": "https://localhost:8080/"
        },
        "outputId": "c91bb15f-60db-4717-80fe-a606cc099e31"
      },
      "outputs": [
        {
          "output_type": "stream",
          "name": "stdout",
          "text": [
            "La IA mejora la toma de decisiones empresariales al analizar grandes volúmenes de datos en segundos.\n"
          ]
        }
      ],
      "source": [
        "print(\"La IA mejora la toma de decisiones empresariales al analizar grandes volúmenes de datos en segundos.\")"
      ]
    },
    {
      "cell_type": "markdown",
      "id": "hSNU378aiNgf",
      "metadata": {
        "id": "hSNU378aiNgf"
      },
      "source": [
        "Ten en cuenta que también puedes usar los símbolos **`\" \"`** o **`' '`** en tus instrucciones **`print`**. Puedes colocar el texto que deseas imprimir entre **`()`**.  \n",
        "\n",
        "Por ejemplo:"
      ]
    },
    {
      "cell_type": "code",
      "execution_count": null,
      "id": "9fa7cae3-1f0a-48c5-9d0c-4929bc5c6863",
      "metadata": {
        "id": "9fa7cae3-1f0a-48c5-9d0c-4929bc5c6863",
        "colab": {
          "base_uri": "https://localhost:8080/"
        },
        "outputId": "d7b1a773-f1dc-45bf-add7-8a61379bc942"
      },
      "outputs": [
        {
          "output_type": "stream",
          "name": "stdout",
          "text": [
            "El uso de IA en negocios permite personalizar la experiencia del cliente y mejorar su fidelización\n"
          ]
        }
      ],
      "source": [
        "print('El uso de IA en negocios permite personalizar la experiencia del cliente y mejorar su fidelización')"
      ]
    },
    {
      "cell_type": "markdown",
      "id": "mfPT05sZc9ay",
      "metadata": {
        "id": "mfPT05sZc9ay"
      },
      "source": [
        "En Colab, el código se organiza en celdas que se ejecutan secuencialmente, de arriba hacia abajo. Esto significa que la salida de una celda depende de que las celdas anteriores se hayan ejecutado.  \n",
        "\n",
        "Si ejecutas las celdas fuera de orden o omites algunas, pueden ocurrir errores. Cuando vuelvas a abrir el notebook, deberás ejecutar las celdas nuevamente en el orden correcto para reinicializar todo."
      ]
    },
    {
      "cell_type": "markdown",
      "id": "x9iKsCE_i1DJ",
      "metadata": {
        "id": "x9iKsCE_i1DJ"
      },
      "source": [
        "### **Ejercicio**"
      ]
    },
    {
      "cell_type": "markdown",
      "id": "-ljU0f-Tgsj_",
      "metadata": {
        "id": "-ljU0f-Tgsj_"
      },
      "source": [
        "Inserta una celda de Código e imprime la siguiente frase:\n",
        "*Estoy aprendiendo Python*\n",
        "\n",
        "Luego, expande el encabezado \"Solución\" para verificar tu respuesta."
      ]
    },
    {
      "cell_type": "code",
      "source": [
        "print(\"Estoy aprendiendo Python\")\n",
        "print(\"Hello World\")"
      ],
      "metadata": {
        "colab": {
          "base_uri": "https://localhost:8080/"
        },
        "id": "BUnIxUvMTX-M",
        "outputId": "1a335d8a-3ce6-483e-d36a-49a15c43e9d2"
      },
      "id": "BUnIxUvMTX-M",
      "execution_count": null,
      "outputs": [
        {
          "output_type": "stream",
          "name": "stdout",
          "text": [
            "Estoy aprendiendo Python\n",
            "Hello World\n"
          ]
        }
      ]
    },
    {
      "cell_type": "markdown",
      "id": "g_0EkcEii2ui",
      "metadata": {
        "id": "g_0EkcEii2ui"
      },
      "source": [
        "#### **Solucion**"
      ]
    },
    {
      "cell_type": "code",
      "execution_count": null,
      "id": "SiAaogAQjPKf",
      "metadata": {
        "id": "SiAaogAQjPKf"
      },
      "outputs": [],
      "source": []
    },
    {
      "cell_type": "markdown",
      "id": "GaPYNuyz9hHC",
      "metadata": {
        "id": "GaPYNuyz9hHC"
      },
      "source": [
        "## **Encabezados**"
      ]
    },
    {
      "cell_type": "markdown",
      "id": "Gml15M8bk6hS",
      "metadata": {
        "id": "Gml15M8bk6hS"
      },
      "source": [
        "Puedes agregar encabezados para estructurar tu notebook. Puedes usar el símbolo **`#`** para indicar que una celda específica es un encabezado. La cantidad de **`#`** simboliza el nivel del encabezado: por ejemplo, **`##`** para nivel 2, **`###`** para nivel 3, y así sucesivamente.  \n",
        "\n",
        "Haz doble clic en la siguiente celda para observar esto. Ten en cuenta que puedes contraer y expandir estas celdas de encabezado, y esto se aplicará automáticamente a todas las celdas debajo de ellas."
      ]
    },
    {
      "cell_type": "markdown",
      "id": "Ja3M8TQ75RVu",
      "metadata": {
        "id": "Ja3M8TQ75RVu"
      },
      "source": [
        "\n",
        "# Encabezado Nivel 1\n"
      ]
    },
    {
      "cell_type": "markdown",
      "id": "qQrYZeIZ6wkO",
      "metadata": {
        "id": "qQrYZeIZ6wkO"
      },
      "source": [
        "## Encabezado Nivel 2"
      ]
    },
    {
      "cell_type": "markdown",
      "id": "0knffEMX6yQo",
      "metadata": {
        "id": "0knffEMX6yQo"
      },
      "source": [
        "### Encabezado Nivel 3\n"
      ]
    },
    {
      "cell_type": "markdown",
      "id": "aK6mbtj7_PY1",
      "metadata": {
        "id": "aK6mbtj7_PY1"
      },
      "source": [
        "#### Encabezado Nivel 4\n"
      ]
    },
    {
      "cell_type": "markdown",
      "id": "Wwf1zaJYmGK2",
      "metadata": {
        "id": "Wwf1zaJYmGK2"
      },
      "source": [
        "No utilizarás demasiados encabezados en este curso, ya que estructuraremos el código por ti. En este mini-curso introductorio de Python, usaremos encabezados para organizar las diferentes secciones.  \n",
        "\n",
        "Cada subsección tiene una sección de **\"Ejercicio\"**, que puedes expandir según sea necesario. Por ejemplo, intenta revisar primero el ejercicio y luego la solución."
      ]
    },
    {
      "cell_type": "markdown",
      "id": "pdeJT66p9vdZ",
      "metadata": {
        "id": "pdeJT66p9vdZ"
      },
      "source": [
        "## **Formatos**"
      ]
    },
    {
      "cell_type": "markdown",
      "id": "66ng7LfO6VcI",
      "metadata": {
        "id": "66ng7LfO6VcI"
      },
      "source": [
        "También puedes **utilizar** todo tipo de formatos, como se muestra en el *siguiente* ejemplo:"
      ]
    },
    {
      "cell_type": "markdown",
      "id": "0hYBTYAYmNR7",
      "metadata": {
        "id": "0hYBTYAYmNR7"
      },
      "source": [
        "Este es un ejemplo de texto con formato.  \n",
        "**Este texto está en negrilla.** *Este texto está en cursiva.*\n"
      ]
    },
    {
      "cell_type": "markdown",
      "id": "9Y6Hw4lS_VPs",
      "metadata": {
        "id": "9Y6Hw4lS_VPs"
      },
      "source": [
        "### **Ejercicio**\n",
        "Cambia el formato del texto en la celda de texto siguiente a negrilla y cursiva\n"
      ]
    },
    {
      "cell_type": "markdown",
      "id": "qS5Va0mC_fKN",
      "metadata": {
        "id": "qS5Va0mC_fKN"
      },
      "source": [
        "**Este es el texto al que necesitas cambiar el formato.**"
      ]
    },
    {
      "cell_type": "markdown",
      "id": "nfWW6EmJ_jME",
      "metadata": {
        "id": "nfWW6EmJ_jME"
      },
      "source": [
        "#### **Solución**"
      ]
    },
    {
      "cell_type": "code",
      "execution_count": null,
      "id": "2962744c-85bf-451e-9103-96310b995560",
      "metadata": {
        "id": "2962744c-85bf-451e-9103-96310b995560"
      },
      "outputs": [],
      "source": [
        "# Escribe tu código aquí\n",
        "\n"
      ]
    },
    {
      "cell_type": "markdown",
      "id": "wLNXjPCzjflF",
      "metadata": {
        "id": "wLNXjPCzjflF"
      },
      "source": [
        "## **Comentar el código**"
      ]
    },
    {
      "cell_type": "markdown",
      "id": "e2b6df21-fe8a-4d25-8155-06ba0a09e0a7",
      "metadata": {
        "id": "e2b6df21-fe8a-4d25-8155-06ba0a09e0a7"
      },
      "source": [
        "En algunos casos, es posible que desees agregar comentarios a tu código. Puedes lograrlo utilizando el símbolo **`#`**. Ten en cuenta que este es el mismo símbolo que se usa para los encabezados, pero esta vez se aplica a una celda de código, no a una celda de texto.\n",
        "\n",
        "Insertar un símbolo **`#`** en el código significa que cualquier contenido en esa línea de código después de ese símbolo será ignorado.\n",
        "\n",
        "En el ejemplo a continuación, estamos insertando el **`#`** para marcar un comentario en nuestro código, como una simple declaración sobre lo que hace el código, por ejemplo."
      ]
    },
    {
      "cell_type": "code",
      "execution_count": null,
      "id": "5OaL7qAjjflF",
      "metadata": {
        "id": "5OaL7qAjjflF",
        "colab": {
          "base_uri": "https://localhost:8080/"
        },
        "outputId": "5684fb1c-a37b-43c3-a4af-e14e9148ad45"
      },
      "outputs": [
        {
          "output_type": "stream",
          "name": "stdout",
          "text": [
            "El término inteligencia artificial nació en 1956 en la conferencia de Dartmouth, donde se estableció como un campo de estudio.\n",
            "comentario 2\n"
          ]
        }
      ],
      "source": [
        "# Este es un código sencillo donde se imprime una frase simple. Se insertan cometarios como este para recordar que hace la línea de código\n",
        "print(\"El término inteligencia artificial nació en 1956 en la conferencia de Dartmouth, donde se estableció como un campo de estudio.\")\n",
        "print(\"comentario 2\") # ESte es el comentario #2."
      ]
    },
    {
      "cell_type": "markdown",
      "id": "zWYtZ431jflG",
      "metadata": {
        "id": "zWYtZ431jflG"
      },
      "source": [
        "El símbolo **`#`** también se puede usar delante del código real. En el ejemplo a continuación, tengo tres instrucciones **`print`**. Inserté un símbolo **`#`** delante de la primera porque solo quiero ejecutar la segunda y la tercera instrucción **`print`**."
      ]
    },
    {
      "cell_type": "code",
      "execution_count": null,
      "id": "m93y4e4NjflG",
      "metadata": {
        "id": "m93y4e4NjflG",
        "colab": {
          "base_uri": "https://localhost:8080/"
        },
        "outputId": "1243c0cf-8efc-4672-dd85-8d6b37548f22"
      },
      "outputs": [
        {
          "output_type": "stream",
          "name": "stdout",
          "text": [
            "Algunas características de un modelo de inteligencia artificial son:\n",
            "- Generalización\n",
            "- Adaptabilidad\n"
          ]
        }
      ],
      "source": [
        "print(\"Algunas características de un modelo de inteligencia artificial son:\")\n",
        "#print(\"- Aprendizaje\")\n",
        "print(\"- Generalización\")\n",
        "print(\"- Adaptabilidad\")"
      ]
    },
    {
      "cell_type": "markdown",
      "id": "OnX90g-okKdR",
      "metadata": {
        "id": "OnX90g-okKdR"
      },
      "source": [
        "### **Ejercicio**"
      ]
    },
    {
      "cell_type": "markdown",
      "id": "-MTBVoZQkNjU",
      "metadata": {
        "id": "-MTBVoZQkNjU"
      },
      "source": [
        "Toma el código en la siguiente celda e imprime solo las líneas relevantes a **aprendizaje** y **generalización**."
      ]
    },
    {
      "cell_type": "code",
      "execution_count": null,
      "id": "FcblcA5vjflG",
      "metadata": {
        "id": "FcblcA5vjflG",
        "colab": {
          "base_uri": "https://localhost:8080/"
        },
        "outputId": "edde6d50-a54a-4d25-dd76-30fbbe2ae07c"
      },
      "outputs": [
        {
          "output_type": "stream",
          "name": "stdout",
          "text": [
            "Algunas características de un modelo de inteligencia artificial son:\n",
            "- Aprendizaje\n",
            "- Generalización\n"
          ]
        }
      ],
      "source": [
        "print(\"Algunas características de un modelo de inteligencia artificial son:\")\n",
        "print(\"- Aprendizaje\")\n",
        "print(\"- Generalización\")\n",
        "#print(\"- Adaptabilidad\")"
      ]
    },
    {
      "cell_type": "markdown",
      "id": "EXt5BJjokYEU",
      "metadata": {
        "id": "EXt5BJjokYEU"
      },
      "source": [
        "#### **Solución**"
      ]
    },
    {
      "cell_type": "code",
      "execution_count": null,
      "id": "b8b44989-aff3-45ef-8132-8b3021abaa4a",
      "metadata": {
        "id": "b8b44989-aff3-45ef-8132-8b3021abaa4a"
      },
      "outputs": [],
      "source": [
        "# Escribe tu código aquí\n",
        "\n"
      ]
    },
    {
      "cell_type": "markdown",
      "id": "83d13e00-42f9-4af4-9e8b-d55e1d37a6b8",
      "metadata": {
        "id": "83d13e00-42f9-4af4-9e8b-d55e1d37a6b8"
      },
      "source": [
        "### Concatenar Texto"
      ]
    },
    {
      "cell_type": "markdown",
      "id": "29dc3ccd-8e43-4ac4-8fe4-b581c1f008eb",
      "metadata": {
        "id": "29dc3ccd-8e43-4ac4-8fe4-b581c1f008eb"
      },
      "source": [
        "En Python, podemos combinar textos de diferentes maneras. Prueba los siguientes dos métodos e identifica la diferencia entre ellos:"
      ]
    },
    {
      "cell_type": "code",
      "execution_count": null,
      "id": "4WNQktOSkb_D",
      "metadata": {
        "id": "4WNQktOSkb_D",
        "colab": {
          "base_uri": "https://localhost:8080/"
        },
        "outputId": "4bce723d-8e3c-43c7-9853-1c0c4216c5f9"
      },
      "outputs": [
        {
          "output_type": "stream",
          "name": "stdout",
          "text": [
            "Inteligencia Artificial\n",
            "Inteligencia Artificial\n"
          ]
        }
      ],
      "source": [
        "print(\"Inteligencia Artificial\")  # Usando +\n",
        "print(\"Inteligencia\", \"Artificial\")  # Usando ,"
      ]
    },
    {
      "cell_type": "markdown",
      "id": "77d25f42-8f75-429e-9ffd-fc6ff793b3f8",
      "metadata": {
        "id": "77d25f42-8f75-429e-9ffd-fc6ff793b3f8"
      },
      "source": [
        "Con `+`: Se unen (concatenan) los textos en una sola cadena. Es necesario agregar espacios manualmente si se quieren separar las palabras.\n",
        "\n",
        "Con `,`: print separa automáticamente los textos con un espacio sin necesidad de agregarlo manualmente."
      ]
    },
    {
      "cell_type": "markdown",
      "id": "16223a18-039e-43fd-9cdd-767a0a49cbf5",
      "metadata": {
        "id": "16223a18-039e-43fd-9cdd-767a0a49cbf5"
      },
      "source": [
        "### Fórmulas con LaTex"
      ]
    },
    {
      "cell_type": "markdown",
      "id": "85354a61-864c-4fe0-a4c3-41370675b305",
      "metadata": {
        "id": "85354a61-864c-4fe0-a4c3-41370675b305"
      },
      "source": [
        "En los notebooks, podemos escribir ecuaciones matemáticas de manera elegante usando **`LaTeX`** dentro de celdas de texto."
      ]
    },
    {
      "cell_type": "markdown",
      "id": "c5f36dc0-7815-4a5f-b08c-3f8b0e92cd0e",
      "metadata": {
        "id": "c5f36dc0-7815-4a5f-b08c-3f8b0e92cd0e"
      },
      "source": [
        "La famosa ecuación de Einstein se escribe así:  \n",
        "$E = mc^2$\n"
      ]
    },
    {
      "cell_type": "markdown",
      "id": "16e6fe00-b8f4-430a-8148-4f468219f725",
      "metadata": {
        "id": "16e6fe00-b8f4-430a-8148-4f468219f725"
      },
      "source": [
        "Si quieres escribir una ecuación dentro de un párrafo, usa $ al inicio y al final:\n",
        "\n",
        "La ecuación cuadrática es $ax^2 + bx + c = 0$ y su solución es:  \n",
        "\n",
        "$ x = \\frac{-b \\pm \\sqrt{b^2 - 4ac}}{2a} $"
      ]
    }
  ],
  "metadata": {
    "colab": {
      "collapsed_sections": [
        "g_0EkcEii2ui",
        "nfWW6EmJ_jME",
        "EXt5BJjokYEU"
      ],
      "provenance": [],
      "include_colab_link": true
    },
    "kernelspec": {
      "display_name": "Python 3 (ipykernel)",
      "language": "python",
      "name": "python3"
    },
    "language_info": {
      "codemirror_mode": {
        "name": "ipython",
        "version": 3
      },
      "file_extension": ".py",
      "mimetype": "text/x-python",
      "name": "python",
      "nbconvert_exporter": "python",
      "pygments_lexer": "ipython3",
      "version": "3.11.9"
    }
  },
  "nbformat": 4,
  "nbformat_minor": 5
}